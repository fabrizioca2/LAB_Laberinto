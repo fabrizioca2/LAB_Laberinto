{
  "nbformat": 4,
  "nbformat_minor": 0,
  "metadata": {
    "colab": {
      "provenance": [],
      "authorship_tag": "ABX9TyMKedK+U5RHolH/epk9Mmhw",
      "include_colab_link": true
    },
    "kernelspec": {
      "name": "python3",
      "display_name": "Python 3"
    },
    "language_info": {
      "name": "python"
    }
  },
  "cells": [
    {
      "cell_type": "markdown",
      "metadata": {
        "id": "view-in-github",
        "colab_type": "text"
      },
      "source": [
        "<a href=\"https://colab.research.google.com/github/fabrizioca2/LAB_Laberinto/blob/main/Laberinto.ipynb\" target=\"_parent\"><img src=\"https://colab.research.google.com/assets/colab-badge.svg\" alt=\"Open In Colab\"/></a>"
      ]
    },
    {
      "cell_type": "code",
      "execution_count": 1,
      "metadata": {
        "id": "yS3zw_hnvI2j"
      },
      "outputs": [],
      "source": [
        "import random\n",
        "import numpy as np"
      ]
    },
    {
      "cell_type": "code",
      "source": [
        "# Clase que representa el laberinto\n",
        "class Maze:\n",
        "    def __init__(self, grid):\n",
        "        self.grid = grid\n",
        "        self.start = (0, 0)\n",
        "        self.end = (len(grid) - 1, len(grid[0]) - 1)\n",
        "\n",
        "    def is_valid_move(self, position):\n",
        "        x, y = position\n",
        "        return 0 <= x < len(self.grid) and 0 <= y < len(self.grid[0]) and self.grid[x][y] == 0"
      ],
      "metadata": {
        "id": "GTFT1vR0vUTe"
      },
      "execution_count": 2,
      "outputs": []
    }
  ]
}