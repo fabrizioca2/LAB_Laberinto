{
  "nbformat": 4,
  "nbformat_minor": 0,
  "metadata": {
    "colab": {
      "provenance": [],
      "authorship_tag": "ABX9TyOAR/P6Qc8FJqXKN9ERKZ8v",
      "include_colab_link": true
    },
    "kernelspec": {
      "name": "python3",
      "display_name": "Python 3"
    },
    "language_info": {
      "name": "python"
    }
  },
  "cells": [
    {
      "cell_type": "markdown",
      "metadata": {
        "id": "view-in-github",
        "colab_type": "text"
      },
      "source": [
        "<a href=\"https://colab.research.google.com/github/fabrizioca2/LAB_Laberinto/blob/Fabrizio-Calixto/Laberinto.ipynb\" target=\"_parent\"><img src=\"https://colab.research.google.com/assets/colab-badge.svg\" alt=\"Open In Colab\"/></a>"
      ]
    },
    {
      "cell_type": "code",
      "execution_count": null,
      "metadata": {
        "id": "yS3zw_hnvI2j"
      },
      "outputs": [],
      "source": [
        "import random\n",
        "import numpy as np"
      ]
    },
    {
      "cell_type": "code",
      "source": [
        "# Clase que representa el laberinto\n",
        "class Maze:\n",
        "    def __init__(self, grid):\n",
        "        self.grid = grid\n",
        "        self.start = (0, 0)\n",
        "        self.end = (len(grid) - 1, len(grid[0]) - 1)\n",
        "\n",
        "    def is_valid_move(self, position):\n",
        "        x, y = position\n",
        "        return 0 <= x < len(self.grid) and 0 <= y < len(self.grid[0]) and self.grid[x][y] == 0"
      ],
      "metadata": {
        "id": "GTFT1vR0vUTe"
      },
      "execution_count": null,
      "outputs": []
    },
    {
      "cell_type": "code",
      "source": [
        "# Clase que representa el algoritmo genético\n",
        "class GeneticAlgorithm:\n",
        "    def __init__(self, maze, population_size=100, mutation_rate=0.1, crossover_rate=0.8):\n",
        "        self.maze = maze\n",
        "        self.population_size = population_size\n",
        "        self.mutation_rate = mutation_rate\n",
        "        self.crossover_rate = crossover_rate\n",
        "        self.population = self._initialize_population() .."
      ],
      "metadata": {
        "id": "JqhAlXflxV1Y"
      },
      "execution_count": null,
      "outputs": []
    }
  ]
}