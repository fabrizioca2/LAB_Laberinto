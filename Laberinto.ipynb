{
  "nbformat": 4,
  "nbformat_minor": 0,
  "metadata": {
    "colab": {
      "provenance": [],
      "authorship_tag": "ABX9TyNNwt/K9YGN0z3tbtoFKcl/",
      "include_colab_link": true
    },
    "kernelspec": {
      "name": "python3",
      "display_name": "Python 3"
    },
    "language_info": {
      "name": "python"
    }
  },
  "cells": [
    {
      "cell_type": "markdown",
      "metadata": {
        "id": "view-in-github",
        "colab_type": "text"
      },
      "source": [
        "<a href=\"https://colab.research.google.com/github/fabrizioca2/LAB_Laberinto/blob/Fabrizio-Calixto/Laberinto.ipynb\" target=\"_parent\"><img src=\"https://colab.research.google.com/assets/colab-badge.svg\" alt=\"Open In Colab\"/></a>"
      ]
    },
    {
      "cell_type": "code",
      "source": [
        "import pygame\n",
        "import random"
      ],
      "metadata": {
        "id": "rdN5-UJw3DQb",
        "outputId": "c4b96b43-a7ed-4e16-cd19-55c58e15ece5",
        "colab": {
          "base_uri": "https://localhost:8080/"
        }
      },
      "execution_count": 49,
      "outputs": [
        {
          "output_type": "stream",
          "name": "stdout",
          "text": [
            "pygame 2.6.1 (SDL 2.28.4, Python 3.10.12)\n",
            "Hello from the pygame community. https://www.pygame.org/contribute.html\n"
          ]
        }
      ]
    },
    {
      "cell_type": "code",
      "source": [
        "# Clase que representa el laberinto\n",
        "class Maze:\n",
        "    def __init__(self, width, height, obstacles=None):\n",
        "        \"\"\"\n",
        "        Constructor para inicializar el laberinto.\n",
        "        :param width: Ancho del laberinto (número de columnas).\n",
        "        :param height: Alto del laberinto (número de filas).\n",
        "        :param obstacles: Lista de tuplas que representan las coordenadas de las celdas ocupadas.\n",
        "        \"\"\"\n",
        "        self.width = width\n",
        "        self.height = height\n",
        "        self.grid = [[0 for _ in range(width)] for _ in range(height)]\n",
        "        if obstacles:\n",
        "            for obs in obstacles:\n",
        "                self.grid[obs[1]][obs[0]] = 1  # Marca las celdas ocupadas\n",
        "\n",
        "    def is_cell_valid(self, x, y):\n",
        "        \"\"\"\n",
        "        Verifica si una celda es válida y está libre.\n",
        "        :param x: Coordenada x (columna).\n",
        "        :param y: Coordenada y (fila).\n",
        "        :return: True si la celda es válida y libre, False de lo contrario.\n",
        "        \"\"\"\n",
        "        return 0 <= x < self.width and 0 <= y < self.height and self.grid[y][x] == 0"
      ],
      "metadata": {
        "id": "IMzqZcQK3XuK"
      },
      "execution_count": 50,
      "outputs": []
    },
    {
      "cell_type": "code",
      "source": [
        "# Clase que representa el algoritmo genético\n",
        "class GeneticAlgorithm:\n",
        "    def __init__(self, maze, start, end, population_size, max_generations, crossover_rate, mutation_rate):\n",
        "        \"\"\"\n",
        "        Constructor que inicializa el algoritmo genético.\n",
        "        \"\"\"\n",
        "        self.maze = maze\n",
        "        self.start = start\n",
        "        self.end = end\n",
        "        self.population_size = population_size\n",
        "        self.max_generations = max_generations\n",
        "        self.crossover_rate = crossover_rate\n",
        "        self.mutation_rate = mutation_rate\n",
        "        self.population = []\n",
        "\n",
        "    def generate_initial_population(self):\n",
        "        \"\"\"\n",
        "        Genera una población inicial de caminos aleatorios.\n",
        "        \"\"\"\n",
        "        self.population = []\n",
        "        for _ in range(self.population_size):\n",
        "            path = [self.start]\n",
        "            current_pos = self.start\n",
        "            while current_pos != self.end:\n",
        "                next_step = (current_pos[0] + random.choice([-1, 0, 1]), current_pos[1] + random.choice([-1, 0, 1]))\n",
        "                if (self.maze.is_cell_valid(next_step[0], next_step[1]) and\n",
        "                    next_step not in path):\n",
        "                    path.append(next_step)\n",
        "                    current_pos = next_step\n",
        "            self.population.append(path)\n",
        "\n",
        "    def fitness_function(self, path):\n",
        "        \"\"\"\n",
        "        Calcula el fitness de un camino.\n",
        "        \"\"\"\n",
        "        if not path or path[-1] != self.end:\n",
        "            return float('-inf')  # Penalizar caminos que no llegan al destino\n",
        "        path_length = len(path)\n",
        "        turns = sum(1 for i in range(1, len(path) - 1) if path[i-1][0] != path[i][0] and path[i][1] != path[i+1][1])\n",
        "        return 1 / (path_length + turns)\n",
        "\n",
        "    def selection(self):\n",
        "        \"\"\"\n",
        "        Selecciona los padres de la población usando el método de ruleta.\n",
        "        \"\"\"\n",
        "        fitness_values = [self.fitness_function(path) for path in self.population]\n",
        "        total_fitness = sum(fitness_values)\n",
        "        probabilities = [f / total_fitness for f in fitness_values if f > 0]\n",
        "        return random.choices(self.population, weights=probabilities, k=self.population_size)\n",
        "\n",
        "    def crossover(self, parent1, parent2):\n",
        "        \"\"\"\n",
        "        Realiza el cruce entre dos caminos para generar dos nuevos.\n",
        "        \"\"\"\n",
        "        if random.random() < self.crossover_rate:\n",
        "            cross_point = random.randint(1, min(len(parent1), len(parent2)) - 2)\n",
        "            child1 = parent1[:cross_point] + [p for p in parent2 if p not in parent1[:cross_point]]\n",
        "            child2 = parent2[:cross_point] + [p for p in parent1 if p not in parent2[:cross_point]]\n",
        "            return child1, child2\n",
        "        return parent1, parent2\n",
        "\n",
        "    def mutate(self, path):\n",
        "        \"\"\"\n",
        "        Realiza una mutación en un camino.\n",
        "        \"\"\"\n",
        "        if random.random() < self.mutation_rate and len(path) > 2:\n",
        "            mutation_point = random.randint(1, len(path) - 2)\n",
        "            new_step = (path[mutation_point][0] + random.choice([-1, 0, 1]), path[mutation_point][1] + random.choice([-1, 0, 1]))\n",
        "            if self.maze.is_cell_valid(new_step[0], new_step[1]) and new_step not in path:\n",
        "                path[mutation_point] = new_step\n",
        "        return path\n",
        "\n",
        "    def evolve(self):\n",
        "        \"\"\"\n",
        "        Ejecuta el proceso evolutivo para encontrar el mejor camino.\n",
        "        \"\"\"\n",
        "        self.generate_initial_population()\n",
        "        best_path = []\n",
        "        for generation in range(self.max_generations):\n",
        "            parents = self.selection()\n",
        "            next_generation = []\n",
        "            for i in range(0, len(parents) - 1, 2):\n",
        "                parent1, parent2 = parents[i], parents[i + 1]\n",
        "                child1, child2 = self.crossover(parent1, parent2)\n",
        "                next_generation.append(self.mutate(child1))\n",
        "                next_generation.append(self.mutate(child2))\n",
        "            self.population = sorted(next_generation, key=self.fitness_function, reverse=True)[:self.population_size]\n",
        "            best_path = self.population[0]\n",
        "            if best_path[-1] == self.end:\n",
        "                break\n",
        "        return best_path"
      ],
      "metadata": {
        "id": "piiJM7xo5bA4"
      },
      "execution_count": 51,
      "outputs": []
    },
    {
      "cell_type": "code",
      "source": [
        "# Visualización con pygame\n",
        "def draw_maze(maze, path):\n",
        "    pygame.init()\n",
        "    cell_size = 40\n",
        "    screen = pygame.display.set_mode((maze.width * cell_size, maze.height * cell_size))\n",
        "    pygame.display.set_caption(\"Laberinto Resuelto con Algoritmo Genético\")\n",
        "    clock = pygame.time.Clock()\n",
        "\n",
        "    running = True\n",
        "    while running:\n",
        "        for event in pygame.event.get():\n",
        "            if event.type == pygame.QUIT:\n",
        "                running = False\n",
        "\n",
        "        screen.fill((255, 255, 255))\n",
        "        for y in range(maze.height):\n",
        "            for x in range(maze.width):\n",
        "                color = (0, 0, 0) if maze.grid[y][x] == 1 else (200, 200, 200)\n",
        "                pygame.draw.rect(screen, color, (x * cell_size, y * cell_size, cell_size, cell_size))\n",
        "                pygame.draw.rect(screen, (0, 0, 0), (x * cell_size, y * cell_size, cell_size, cell_size), 1)\n",
        "\n",
        "        for step in path:\n",
        "            pygame.draw.rect(screen, (0, 255, 0), (step[0] * cell_size, step[1] * cell_size, cell_size, cell_size))\n",
        "\n",
        "        pygame.display.flip()\n",
        "        clock.tick(10)\n",
        "\n",
        "    pygame.quit()"
      ],
      "metadata": {
        "id": "oDeMx1Ur4UxD"
      },
      "execution_count": 52,
      "outputs": []
    },
    {
      "cell_type": "code",
      "source": [
        "# Crear el laberinto y resolverlo\n",
        "maze = Maze(10, 10, obstacles=[(2, 2), (3, 3), (4, 4), (5, 5), (6, 6)])\n",
        "solver = GeneticAlgorithm(\n",
        "    maze=maze,\n",
        "    start=(0, 0),\n",
        "    end=(9, 9),\n",
        "    population_size=10,\n",
        "    max_generations=15,\n",
        "    crossover_rate=0.7,\n",
        "    mutation_rate=0.1\n",
        ")"
      ],
      "metadata": {
        "id": "3Cq9c8aL6aI6"
      },
      "execution_count": 55,
      "outputs": []
    },
    {
      "cell_type": "code",
      "source": [
        "best_path = solver.evolve()"
      ],
      "metadata": {
        "id": "CB450wRL6cP2"
      },
      "execution_count": null,
      "outputs": []
    }
  ]
}